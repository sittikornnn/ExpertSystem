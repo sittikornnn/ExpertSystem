{
 "cells": [
  {
   "cell_type": "code",
   "execution_count": 73,
   "id": "645daaf7",
   "metadata": {},
   "outputs": [],
   "source": [
    "from pulp import *"
   ]
  },
  {
   "cell_type": "code",
   "execution_count": 74,
   "id": "a62524dd",
   "metadata": {},
   "outputs": [],
   "source": [
    "#data\n",
    "plant = ['plant1','plant2','plant3']\n",
    "region = ['region1','region2','region3','region4']\n",
    "arc = [(i,j) for i in plant for j in region]"
   ]
  },
  {
   "cell_type": "code",
   "execution_count": 75,
   "id": "8e3bd93d",
   "metadata": {},
   "outputs": [
    {
     "data": {
      "text/plain": [
       "[('plant1', 'region1'),\n",
       " ('plant1', 'region2'),\n",
       " ('plant1', 'region3'),\n",
       " ('plant1', 'region4'),\n",
       " ('plant2', 'region1'),\n",
       " ('plant2', 'region2'),\n",
       " ('plant2', 'region3'),\n",
       " ('plant2', 'region4'),\n",
       " ('plant3', 'region1'),\n",
       " ('plant3', 'region2'),\n",
       " ('plant3', 'region3'),\n",
       " ('plant3', 'region4')]"
      ]
     },
     "execution_count": 75,
     "metadata": {},
     "output_type": "execute_result"
    }
   ],
   "source": [
    "arc"
   ]
  },
  {
   "cell_type": "code",
   "execution_count": 76,
   "id": "1b5a636e",
   "metadata": {},
   "outputs": [],
   "source": [
    "plantCap = {\n",
    "    \"plant1\":450,\n",
    "    \"plant2\":600,\n",
    "    \"plant3\":500\n",
    "}"
   ]
  },
  {
   "cell_type": "code",
   "execution_count": 77,
   "id": "27031565",
   "metadata": {},
   "outputs": [],
   "source": [
    "regionDemand = {\n",
    "    \"region1\":450,\n",
    "    \"region2\":200,\n",
    "    \"region3\":300,\n",
    "    \"region4\":300\n",
    "}"
   ]
  },
  {
   "cell_type": "code",
   "execution_count": 78,
   "id": "3b961db5",
   "metadata": {},
   "outputs": [],
   "source": [
    "shippingCost = {\n",
    "    \"plant1\" : {\"region1\":131,\"region2\":218,\"region3\":266,\"region4\":120},\n",
    "    \"plant2\" : {\"region1\":250,\"region2\":116,\"region3\":263,\"region4\":278},\n",
    "    \"plant3\" : {\"region1\":178,\"region2\":132,\"region3\":122,\"region4\":180}\n",
    "}"
   ]
  },
  {
   "cell_type": "code",
   "execution_count": 79,
   "id": "5cd63f3f",
   "metadata": {},
   "outputs": [],
   "source": [
    "#model\n",
    "mod = LpProblem(\"TransportationProblemSimple\",LpMinimize)\n",
    "xShip = LpVariable.dicts(\"ShipOnArc\",(plant,region),0)\n",
    "mod += lpSum([shippingCost[i][j]*xShip[i][j] for (i,j) in arc]), \"Total Transportation Cost\"\n",
    "#print(xShip)\n",
    "\n",
    "#print(mod)\n",
    "\n",
    "for i in plant:\n",
    "    mod += lpSum([xShip[i][j] for j in region]) <= plantCap[i], \"Total ship out of %s\"%i\n",
    "for j in region:\n",
    "    mod += lpSum([xShip[i][j] for i in plant]) >= regionDemand[j], \"Total ship to %s\" %j"
   ]
  },
  {
   "cell_type": "code",
   "execution_count": 80,
   "id": "6a92730d",
   "metadata": {},
   "outputs": [
    {
     "name": "stdout",
     "output_type": "stream",
     "text": [
      "131*ShipOnArc_plant1_region1 + 218*ShipOnArc_plant1_region2 + 266*ShipOnArc_plant1_region3 + 120*ShipOnArc_plant1_region4 + 250*ShipOnArc_plant2_region1 + 116*ShipOnArc_plant2_region2 + 263*ShipOnArc_plant2_region3 + 278*ShipOnArc_plant2_region4 + 178*ShipOnArc_plant3_region1 + 132*ShipOnArc_plant3_region2 + 122*ShipOnArc_plant3_region3 + 180*ShipOnArc_plant3_region4\n"
     ]
    }
   ],
   "source": [
    "print(lpSum(shippingCost[i][j]*xShip[i][j] for (i,j) in arc))"
   ]
  },
  {
   "cell_type": "code",
   "execution_count": 81,
   "id": "253d9863",
   "metadata": {},
   "outputs": [
    {
     "data": {
      "text/plain": [
       "1"
      ]
     },
     "execution_count": 81,
     "metadata": {},
     "output_type": "execute_result"
    }
   ],
   "source": [
    "mod.solve()"
   ]
  },
  {
   "cell_type": "code",
   "execution_count": 82,
   "id": "1b5a39ae",
   "metadata": {},
   "outputs": [
    {
     "name": "stdout",
     "output_type": "stream",
     "text": [
      "Status: Optimal\n"
     ]
    }
   ],
   "source": [
    "print(\"Status:\",LpStatus[mod.status])"
   ]
  },
  {
   "cell_type": "code",
   "execution_count": 83,
   "id": "0dde604e",
   "metadata": {},
   "outputs": [
    {
     "name": "stdout",
     "output_type": "stream",
     "text": [
      "ShipOnArc_plant1_region1 = 150.0\n",
      "ShipOnArc_plant1_region2 = 0.0\n",
      "ShipOnArc_plant1_region3 = 0.0\n",
      "ShipOnArc_plant1_region4 = 300.0\n",
      "ShipOnArc_plant2_region1 = 100.0\n",
      "ShipOnArc_plant2_region2 = 200.0\n",
      "ShipOnArc_plant2_region3 = 0.0\n",
      "ShipOnArc_plant2_region4 = 0.0\n",
      "ShipOnArc_plant3_region1 = 200.0\n",
      "ShipOnArc_plant3_region2 = 0.0\n",
      "ShipOnArc_plant3_region3 = 300.0\n",
      "ShipOnArc_plant3_region4 = 0.0\n"
     ]
    }
   ],
   "source": [
    "for v in mod.variables():\n",
    "    print(v.name,\"=\",v.varValue)"
   ]
  },
  {
   "cell_type": "code",
   "execution_count": 84,
   "id": "7c4def05",
   "metadata": {},
   "outputs": [
    {
     "name": "stdout",
     "output_type": "stream",
     "text": [
      "Total profit =  176050.0\n"
     ]
    }
   ],
   "source": [
    "print(\"Total profit = \",value(mod.objective))"
   ]
  },
  {
   "cell_type": "code",
   "execution_count": null,
   "id": "49d786ed",
   "metadata": {},
   "outputs": [],
   "source": []
  }
 ],
 "metadata": {
  "kernelspec": {
   "display_name": "Python 3 (ipykernel)",
   "language": "python",
   "name": "python3"
  },
  "language_info": {
   "codemirror_mode": {
    "name": "ipython",
    "version": 3
   },
   "file_extension": ".py",
   "mimetype": "text/x-python",
   "name": "python",
   "nbconvert_exporter": "python",
   "pygments_lexer": "ipython3",
   "version": "3.9.17"
  }
 },
 "nbformat": 4,
 "nbformat_minor": 5
}
