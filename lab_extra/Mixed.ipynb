{
 "cells": [
  {
   "cell_type": "code",
   "execution_count": 1,
   "id": "eec71825",
   "metadata": {},
   "outputs": [],
   "source": [
    "from pulp import *"
   ]
  },
  {
   "cell_type": "code",
   "execution_count": 16,
   "id": "1166884b",
   "metadata": {},
   "outputs": [],
   "source": [
    "#declare some variables\n",
    "a = LpVariable(\"Condo\",0,4,cat=\"Integer\")\n",
    "b = LpVariable(\"Land\",0,15)\n",
    "c = LpVariable(\"Bonds\",0,20,cat=\"Integer\")"
   ]
  },
  {
   "cell_type": "code",
   "execution_count": 17,
   "id": "d64c7a4e",
   "metadata": {},
   "outputs": [],
   "source": [
    "#define the problem\n",
    "prob = LpProblem(\"Investment\",LpMaximize)"
   ]
  },
  {
   "cell_type": "code",
   "execution_count": 18,
   "id": "0be322d2",
   "metadata": {},
   "outputs": [],
   "source": [
    "prob += 9000*a+1500*b+1000*c"
   ]
  },
  {
   "cell_type": "code",
   "execution_count": 19,
   "id": "e50ef15c",
   "metadata": {},
   "outputs": [],
   "source": [
    "prob += 50000*a +12000*b+8000*c <= 250000\n",
    "prob += a <= 4\n",
    "prob += b <= 15\n",
    "prob += c <= 20"
   ]
  },
  {
   "cell_type": "code",
   "execution_count": 20,
   "id": "cf2877ad",
   "metadata": {},
   "outputs": [
    {
     "data": {
      "text/plain": [
       "1"
      ]
     },
     "execution_count": 20,
     "metadata": {},
     "output_type": "execute_result"
    }
   ],
   "source": [
    "prob.solve()"
   ]
  },
  {
   "cell_type": "code",
   "execution_count": 21,
   "id": "3dd43e1e",
   "metadata": {},
   "outputs": [
    {
     "name": "stdout",
     "output_type": "stream",
     "text": [
      "Status: Optimal\n"
     ]
    }
   ],
   "source": [
    "print(\"Status:\",LpStatus[prob.status])"
   ]
  },
  {
   "cell_type": "code",
   "execution_count": 22,
   "id": "17ce7758",
   "metadata": {},
   "outputs": [
    {
     "name": "stdout",
     "output_type": "stream",
     "text": [
      "Bonds  =  0.0\n",
      "Condo  =  4.0\n",
      "Land  =  4.1666667\n"
     ]
    }
   ],
   "source": [
    "for v in prob.variables():\n",
    "    print(v.name, \" = \",v.varValue)"
   ]
  },
  {
   "cell_type": "code",
   "execution_count": 23,
   "id": "9dc51e33",
   "metadata": {},
   "outputs": [
    {
     "name": "stdout",
     "output_type": "stream",
     "text": [
      "Total Profit from Investment 42250.00005\n"
     ]
    }
   ],
   "source": [
    "print('Total Profit from Investment',value(prob.objective))"
   ]
  },
  {
   "cell_type": "code",
   "execution_count": null,
   "id": "3e7e1f7b",
   "metadata": {},
   "outputs": [],
   "source": []
  }
 ],
 "metadata": {
  "kernelspec": {
   "display_name": "Python 3 (ipykernel)",
   "language": "python",
   "name": "python3"
  },
  "language_info": {
   "codemirror_mode": {
    "name": "ipython",
    "version": 3
   },
   "file_extension": ".py",
   "mimetype": "text/x-python",
   "name": "python",
   "nbconvert_exporter": "python",
   "pygments_lexer": "ipython3",
   "version": "3.9.17"
  }
 },
 "nbformat": 4,
 "nbformat_minor": 5
}
