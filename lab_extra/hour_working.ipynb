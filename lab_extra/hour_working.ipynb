{
 "cells": [
  {
   "cell_type": "code",
   "execution_count": 34,
   "id": "476384f5",
   "metadata": {},
   "outputs": [],
   "source": [
    "#pip install pulp"
   ]
  },
  {
   "cell_type": "code",
   "execution_count": 3,
   "id": "e04b13c2",
   "metadata": {},
   "outputs": [],
   "source": [
    "from pulp import *"
   ]
  },
  {
   "cell_type": "code",
   "execution_count": 26,
   "id": "10acd0a3",
   "metadata": {},
   "outputs": [],
   "source": [
    "prob = LpProblem(\"ProductMixSimple\",LpMaximize)"
   ]
  },
  {
   "cell_type": "code",
   "execution_count": 27,
   "id": "eadf8b77",
   "metadata": {},
   "outputs": [],
   "source": [
    "Xb = LpVariable(\"Basic Model\",0,600)\n",
    "Xp = LpVariable(\"XP Model\",0,1200)"
   ]
  },
  {
   "cell_type": "code",
   "execution_count": 28,
   "id": "b0c8cd27",
   "metadata": {},
   "outputs": [],
   "source": [
    "prob += 80*Xb + 129*Xp , \"Total Profit\""
   ]
  },
  {
   "cell_type": "code",
   "execution_count": 29,
   "id": "7e500874",
   "metadata": {},
   "outputs": [],
   "source": [
    "prob += 5*Xb + 6*Xp <= 10000,\"labor for assembling constraint\"\n",
    "prob += 1*Xb + 2*Xp <= 3000,\"labor for testing constraint\""
   ]
  },
  {
   "cell_type": "code",
   "execution_count": 30,
   "id": "69fb48af",
   "metadata": {},
   "outputs": [
    {
     "data": {
      "text/plain": [
       "1"
      ]
     },
     "execution_count": 30,
     "metadata": {},
     "output_type": "execute_result"
    }
   ],
   "source": [
    "prob.solve()"
   ]
  },
  {
   "cell_type": "code",
   "execution_count": 31,
   "id": "d72863c8",
   "metadata": {},
   "outputs": [
    {
     "name": "stdout",
     "output_type": "stream",
     "text": [
      "Status: Optimal\n"
     ]
    }
   ],
   "source": [
    "print(\"Status:\",LpStatus[prob.status])"
   ]
  },
  {
   "cell_type": "code",
   "execution_count": 32,
   "id": "e46bf262",
   "metadata": {
    "scrolled": true
   },
   "outputs": [
    {
     "name": "stdout",
     "output_type": "stream",
     "text": [
      "Basic_Model = 560.0\n",
      "XP_Model = 1200.0\n"
     ]
    }
   ],
   "source": [
    "for v in prob.variables():\n",
    "    print(v.name,\"=\",v.varValue)"
   ]
  },
  {
   "cell_type": "code",
   "execution_count": 33,
   "id": "508e7a45",
   "metadata": {},
   "outputs": [
    {
     "name": "stdout",
     "output_type": "stream",
     "text": [
      "Total profit =  199600.0\n"
     ]
    }
   ],
   "source": [
    "print(\"Total profit = \",value(prob.objective))"
   ]
  },
  {
   "cell_type": "code",
   "execution_count": null,
   "id": "29a9fba8",
   "metadata": {},
   "outputs": [],
   "source": []
  }
 ],
 "metadata": {
  "kernelspec": {
   "display_name": "Python 3 (ipykernel)",
   "language": "python",
   "name": "python3"
  },
  "language_info": {
   "codemirror_mode": {
    "name": "ipython",
    "version": 3
   },
   "file_extension": ".py",
   "mimetype": "text/x-python",
   "name": "python",
   "nbconvert_exporter": "python",
   "pygments_lexer": "ipython3",
   "version": "3.9.17"
  }
 },
 "nbformat": 4,
 "nbformat_minor": 5
}
