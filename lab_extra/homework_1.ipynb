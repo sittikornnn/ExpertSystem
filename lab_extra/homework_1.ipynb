{
 "cells": [
  {
   "cell_type": "code",
   "execution_count": 68,
   "id": "6e52c5b2",
   "metadata": {},
   "outputs": [],
   "source": [
    "from pulp import *"
   ]
  },
  {
   "cell_type": "code",
   "execution_count": 69,
   "id": "c5dc4a41",
   "metadata": {},
   "outputs": [],
   "source": [
    "prob = LpProblem(\"ProductMixSimple\",LpMaximize)"
   ]
  },
  {
   "cell_type": "code",
   "execution_count": 70,
   "id": "d2eb4d2b",
   "metadata": {},
   "outputs": [],
   "source": [
    "Xb = LpVariable(\"Jordanelle\",0)\n",
    "Xp = LpVariable(\"Deercrest\",0)"
   ]
  },
  {
   "cell_type": "code",
   "execution_count": 71,
   "id": "1fb3da66",
   "metadata": {},
   "outputs": [],
   "source": [
    "prob += 50*Xb + 65*Xp ,\"Total Profit\""
   ]
  },
  {
   "cell_type": "code",
   "execution_count": 72,
   "id": "be6e6d12",
   "metadata": {},
   "outputs": [],
   "source": [
    "prob += 3.5*Xb + 4*Xp <= 84 ,\"time working assem\"\n",
    "prob += 1*Xb + 1.5*Xp <= 21 ,\"time working test\"\n",
    "prob += Xp - 2*Xb >= 0 ,\"rule pay it\""
   ]
  },
  {
   "cell_type": "code",
   "execution_count": 73,
   "id": "2ffc20e6",
   "metadata": {},
   "outputs": [
    {
     "data": {
      "text/plain": [
       "1"
      ]
     },
     "execution_count": 73,
     "metadata": {},
     "output_type": "execute_result"
    }
   ],
   "source": [
    "prob.solve()"
   ]
  },
  {
   "cell_type": "code",
   "execution_count": 74,
   "id": "f7a780a5",
   "metadata": {},
   "outputs": [
    {
     "name": "stdout",
     "output_type": "stream",
     "text": [
      "Status: Optimal\n"
     ]
    }
   ],
   "source": [
    "print(\"Status:\",LpStatus[prob.status])"
   ]
  },
  {
   "cell_type": "code",
   "execution_count": 75,
   "id": "a1254683",
   "metadata": {},
   "outputs": [
    {
     "name": "stdout",
     "output_type": "stream",
     "text": [
      "Deercrest  =  10.5\n",
      "Jordanelle  =  5.25\n"
     ]
    }
   ],
   "source": [
    "for v in prob.variables():\n",
    "    print(v.name,\" = \",v.varValue)"
   ]
  },
  {
   "cell_type": "code",
   "execution_count": 76,
   "id": "2aaa58cf",
   "metadata": {},
   "outputs": [
    {
     "name": "stdout",
     "output_type": "stream",
     "text": [
      "Total profit =  945.0\n"
     ]
    }
   ],
   "source": [
    "print(\"Total profit = \",value(prob.objective))"
   ]
  },
  {
   "cell_type": "code",
   "execution_count": null,
   "id": "327cb52d",
   "metadata": {},
   "outputs": [],
   "source": []
  }
 ],
 "metadata": {
  "kernelspec": {
   "display_name": "Python 3 (ipykernel)",
   "language": "python",
   "name": "python3"
  },
  "language_info": {
   "codemirror_mode": {
    "name": "ipython",
    "version": 3
   },
   "file_extension": ".py",
   "mimetype": "text/x-python",
   "name": "python",
   "nbconvert_exporter": "python",
   "pygments_lexer": "ipython3",
   "version": "3.9.17"
  }
 },
 "nbformat": 4,
 "nbformat_minor": 5
}
